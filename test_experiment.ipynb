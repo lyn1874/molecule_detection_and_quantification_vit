{
 "cells": [
  {
   "cell_type": "code",
   "execution_count": 1,
   "id": "virgin-fiber",
   "metadata": {},
   "outputs": [
    {
     "name": "stderr",
     "output_type": "stream",
     "text": [
      "sh: nvidia-smi: command not found\n",
      "sh: nvidia-smi: command not found\n"
     ]
    }
   ],
   "source": [
    "import os\n",
    "import math\n",
    "import numpy as np\n",
    "import torch\n",
    "import train_vit as train_vit\n",
    "import train_spectra as train_spectra\n",
    "import matplotlib.pyplot as plt\n",
    "import test as te\n",
    "import data.prepare_sers_data as psd \n",
    "import imp\n",
    "import utils\n",
    "import vis_utils as vu\n",
    "import models.spectra_model as spectra_model\n",
    "import configs.common as common\n",
    "import time \n",
    "\n",
    "def get_freer_gpu():\n",
    "    os.system('nvidia-smi -q -d Memory |grep -A4 GPU|grep Free >tmp')\n",
    "    memory_available = [int(x.split()[2]) for x in open('tmp', 'r').readlines()]\n",
    "    return np.argsort(memory_available)\n",
    "\n",
    "num_gpu = 1\n",
    "free_id = get_freer_gpu()\n",
    "device = torch.device(\"cuda\") if len(free_id) > 0 else torch.device(\"cpu\")\n",
    "\n",
    "if len(free_id) > 0:\n",
    "    use_id = free_id[-num_gpu:]\n",
    "    use_id_list = \",\".join([\"%d\" % i for i in use_id])\n",
    "    os.environ[\"CUDA_DEVICE_ORDER\"] = \"PCI_BUS_ID\"\n",
    "    os.environ[\"CUDA_VISIBLE_DEVICES\"] = use_id_list\n"
   ]
  },
  {
   "cell_type": "markdown",
   "id": "improved-independence",
   "metadata": {},
   "source": [
    "## User-define\n",
    "- define the dataset \n",
    "- define detection and quantification (if detection is True, then quantification has to be False)\n",
    "- define the directory that saves the dataset"
   ]
  },
  {
   "cell_type": "code",
   "execution_count": 2,
   "id": "personal-hearts",
   "metadata": {},
   "outputs": [],
   "source": [
    "dataset = \"DNP\"\n",
    "detection = False\n",
    "quantification = True\n",
    "leave_index=0 \n",
    "\n",
    "const = common.get_config_test_vit(dataset, detection, quantification, leave_index=leave_index)\n",
    "path_mom=\"datasets/\"  # USER DEFINE\n"
   ]
  },
  {
   "cell_type": "markdown",
   "id": "arctic-vatican",
   "metadata": {},
   "source": [
    "## Load the dataset"
   ]
  },
  {
   "cell_type": "code",
   "execution_count": 3,
   "id": "numeric-metallic",
   "metadata": {},
   "outputs": [
    {
     "name": "stdout",
     "output_type": "stream",
     "text": [
      "DNP\n"
     ]
    }
   ],
   "source": [
    "print(dataset)\n",
    "imp.reload(psd)\n",
    "data_obj = psd.ReadSERSData(dataset, target_shape=const.target_shape, \n",
    "                            percentage=0, top_selection_method=\"sers_maps\", \n",
    "                            path_mom=path_mom, quantification=quantification,\n",
    "                            detection=detection,\n",
    "                            leave_index=const.leave_index, \n",
    "                            leave_method=const.leave_method)"
   ]
  },
  {
   "cell_type": "code",
   "execution_count": 4,
   "id": "affiliated-gothic",
   "metadata": {},
   "outputs": [
    {
     "name": "stdout",
     "output_type": "stream",
     "text": [
      "**************I will only leave one measurement out************\n",
      "Training chip index: (array([1, 2, 3, 4, 5]), array([4, 5, 5, 5, 5]))\n",
      "Testing chip index: (array([1]), array([1]))\n",
      "There are 19 training data and 5 validation data\n",
      "The replicated validation index in the training []\n",
      "----------------------Before augmenting the data----------------------\n",
      "SERS map shape (19, 44, 44, 389)\n",
      "Unique label and count (array([1.]), array([19]))\n",
      "Unique concentration and count (array([1.e-04, 1.e-03, 1.e-02, 1.e-01, 1.e+00]), array([3, 4, 4, 4, 4]))\n",
      "                                                                       \n",
      "----------------------Before augmenting the data----------------------\n",
      "SERS map shape (5, 44, 44, 389)\n",
      "Unique label and count (array([1.]), array([5]))\n",
      "Unique concentration and count (array([1.e-04, 1.e-03, 1.e-02, 1.e-01, 1.e+00]), array([1, 1, 1, 1, 1]))\n",
      "                                                                       \n",
      "=============================================Training===================================================\n",
      "Map shape: (114, 44, 44, 389)\n",
      "Label distribution: ['1: 114']\n",
      "Concentration distribution: ['0.0001: 18', '0.0010: 24', '0.0100: 24', '0.1000: 24', '1.0000: 24']\n",
      "=============================================Testing===================================================\n",
      "Map shape: (1, 44, 44, 389)\n",
      "Label distribution: ['1: 1']\n",
      "Concentration distribution: ['0.0001: 1']\n"
     ]
    }
   ],
   "source": [
    "[tr_maps, tr_label, tr_conc, tr_peak, tr_wave], [val_maps, val_label, val_conc, val_peak], \\\n",
    "    [tt_maps, tt_label, tt_conc, tt_peak, tt_wave], imshape, num_class = data_obj.forward_test()"
   ]
  },
  {
   "cell_type": "markdown",
   "id": "universal-worst",
   "metadata": {},
   "source": [
    "## Load the models \n",
    "We repeat each experiment five times to calculate the ensemble prediction"
   ]
  },
  {
   "cell_type": "code",
   "execution_count": 6,
   "id": "bright-consent",
   "metadata": {},
   "outputs": [
    {
     "name": "stdout",
     "output_type": "stream",
     "text": [
      "There are 5 models for ensemble calculation\n"
     ]
    },
    {
     "name": "stderr",
     "output_type": "stream",
     "text": [
      "sh: nvidia-smi: command not found\n"
     ]
    }
   ],
   "source": [
    "imp.reload(te)\n",
    "exp_dir = \"exp_data/VIT/\"\n",
    "ckpt_group = te.get_ckpt(dataset, detection, quantification, const, exp_dir=exp_dir)"
   ]
  },
  {
   "cell_type": "code",
   "execution_count": 7,
   "id": "desirable-portrait",
   "metadata": {},
   "outputs": [
    {
     "name": "stdout",
     "output_type": "stream",
     "text": [
      "44 44 2 2\n",
      "Patch height 2 Patch width 2 Image shape 44 44\n"
     ]
    }
   ],
   "source": [
    "model_use = train_vit.ViTLightning(num_class, tuple([const.patch_size,const.patch_size]), \n",
    "                                   const.input_feature, const.num_layers, const.num_heads, \n",
    "                                   const.mlp_dim, 0, 2, 10, 10, num_gpu, 0.03, add_positional_encoding=True, \n",
    "                                   quantification=quantification, detection=detection, imshape=imshape,\n",
    "                                   concentration_float=const.concentration_float)    "
   ]
  },
  {
   "cell_type": "markdown",
   "id": "corporate-disposition",
   "metadata": {},
   "source": [
    "## Run detection/quantification and give the ensemble predictions"
   ]
  },
  {
   "cell_type": "code",
   "execution_count": 8,
   "id": "religious-length",
   "metadata": {
    "scrolled": true
   },
   "outputs": [
    {
     "name": "stderr",
     "output_type": "stream",
     "text": [
      "sh: nvidia-smi: command not found\n",
      "/Users/blia/Documents/experiments/molecule_detection_quantification_vit/utils.py:13: RuntimeWarning: divide by zero encountered in double_scalars\n",
      "  r_square = 1.0 - top / bottom\n"
     ]
    },
    {
     "name": "stdout",
     "output_type": "stream",
     "text": [
      "44 44 2 2\n",
      "Patch height 2 Patch width 2 Image shape 44 44\n",
      "The concentration float  1e-06\n",
      "44 44 2 2\n",
      "Patch height 2 Patch width 2 Image shape 44 44\n",
      "The concentration float  1e-06\n",
      "44 44 2 2\n",
      "Patch height 2 Patch width 2 Image shape 44 44\n",
      "The concentration float  1e-06\n",
      "44 44 2 2\n",
      "Patch height 2 Patch width 2 Image shape 44 44\n",
      "The concentration float  1e-06\n",
      "44 44 2 2\n",
      "Patch height 2 Patch width 2 Image shape 44 44\n",
      "The concentration float  1e-06\n",
      "Inference time for one SERS map 0.04950833320617676\n"
     ]
    }
   ],
   "source": [
    "imp.reload(te)\n",
    "prediction_group = []\n",
    "wavecut = np.arange(np.shape(tt_maps)[-1])\n",
    "time_g = 0.0\n",
    "for s_ckpt in ckpt_group:\n",
    "    model_update = model_use.load_from_checkpoint(s_ckpt)\n",
    "    model_update.eval()\n",
    "    model_update.requires_grad_(False)\n",
    "    model_update.to(device)\n",
    "    test_obj = te.Test(tt_maps, tt_label, tt_conc, tt_peak, model_update,\n",
    "                    [const.patch_size, const.patch_size], imshape[:-1],\n",
    "                    tds_dir=None, save=False)\n",
    "    time_init = time.time()\n",
    "    pred, quan, rsquare = test_obj.get_vit_accuracy()\n",
    "    time_g += (time.time() - time_init)\n",
    "    if detection:\n",
    "        prediction_group.append(pred)\n",
    "    else:\n",
    "        prediction_group.append(quan)\n",
    "print(\"Inference time for one SERS map\", time_g / len(ckpt_group))    "
   ]
  },
  {
   "cell_type": "code",
   "execution_count": 12,
   "id": "cardiac-margin",
   "metadata": {},
   "outputs": [
    {
     "name": "stdout",
     "output_type": "stream",
     "text": [
      "True concentration [0.0001]  Predicted concetration [0.00030557]\n"
     ]
    }
   ],
   "source": [
    "avg_pred = np.mean(prediction_group, axis=0)\n",
    "if detection:\n",
    "    print(\"True class\", tt_label, \" Predicted class:\", np.argmax(avg_pred, axis=-1))\n",
    "else:\n",
    "    print(\"True concentration\", tt_conc, \" Predicted concetration\", avg_pred)"
   ]
  },
  {
   "cell_type": "code",
   "execution_count": 13,
   "id": "conservative-employment",
   "metadata": {
    "scrolled": true
   },
   "outputs": [
    {
     "name": "stdout",
     "output_type": "stream",
     "text": [
      "SERS map: concentration: 0.0001\n"
     ]
    },
    {
     "data": {
      "image/png": "[encoded data removed]",
      "text/plain": [
       "<Figure size 720x288 with 2 Axes>"
      ]
     },
     "metadata": {
      "needs_background": "light"
     },
     "output_type": "display_data"
    }
   ],
   "source": [
    "start=0\n",
    "print(\"SERS map: concentration: %.4f\" % tr_conc[start])\n",
    "_out = test_obj._get_single_attention_map(tr_maps[start:start+1])\n",
    "p_use = np.where(tr_wave >= tr_peak[0])[0][0]\n",
    "s_attn_map, s_attn_imsize = test_obj._reorganize_attention_map_to_image(_out[1], _out[0], [p_use],\n",
    "                                                                        show=True, save=False)"
   ]
  },
  {
   "cell_type": "code",
   "execution_count": null,
   "id": "devoted-playlist",
   "metadata": {},
   "outputs": [],
   "source": []
  }
 ],
 "metadata": {
  "kernelspec": {
   "display_name": "Python 3.7.9 ('torch_dl')",
   "language": "python",
   "name": "python3"
  },
  "language_info": {
   "codemirror_mode": {
    "name": "ipython",
    "version": 3
   },
   "file_extension": ".py",
   "mimetype": "text/x-python",
   "name": "python",
   "nbconvert_exporter": "python",
   "pygments_lexer": "ipython3",
   "version": "3.7.9"
  },
  "vscode": {
   "interpreter": {
    "hash": "e25ef711833133f4d6eacf439e9308fde34cb8a6d8f066595febb1dd55e4b62a"
   }
  }
 },
 "nbformat": 4,
 "nbformat_minor": 5
}
